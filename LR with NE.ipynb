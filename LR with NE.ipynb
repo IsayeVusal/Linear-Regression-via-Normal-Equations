{
 "cells": [
  {
   "cell_type": "code",
   "execution_count": 21,
   "metadata": {},
   "outputs": [
    {
     "name": "stdout",
     "output_type": "stream",
     "text": [
      "   home    nbhd  offers  sqft brick  bedrooms  bathrooms   price\n",
      "0     1  nbhd02       2  1790    No         2          2  114300\n",
      "1     2  nbhd02       3  2030    No         4          2  114200\n",
      "2     3  nbhd02       1  1740    No         3          2  114800\n",
      "3     4  nbhd02       3  1980    No         3          2   94700\n",
      "4     5  nbhd02       3  2130    No         3          3  119800\n",
      "['nbhd02' 'nbhd01' 'nbhd03']\n",
      "['No' 'Yes']\n",
      "home          int64\n",
      "nbhd         object\n",
      "offers        int64\n",
      "sqft          int64\n",
      "brick        object\n",
      "bedrooms      int64\n",
      "bathrooms     int64\n",
      "price         int64\n",
      "dtype: object\n"
     ]
    }
   ],
   "source": [
    "import numpy as np\n",
    "import pandas as pd\n",
    "import matplotlib.pyplot as plt\n",
    "%matplotlib inline\n",
    "from scipy import stats\n",
    "\n",
    "# Reading the dataset\n",
    "data = pd.read_csv(\"C:/Users/Vusal/house.csv\")\n",
    "print (data.head())\n",
    "print (data['nbhd'].unique())\n",
    "print (data['brick'].unique())\n",
    "print (data.dtypes)"
   ]
  },
  {
   "cell_type": "code",
   "execution_count": 18,
   "metadata": {},
   "outputs": [
    {
     "name": "stderr",
     "output_type": "stream",
     "text": [
      "C:\\Users\\Vusal\\Anaconda\\lib\\site-packages\\numpy\\core\\fromnumeric.py:57: FutureWarning: reshape is deprecated and will raise in a subsequent release. Please use .values.reshape(...) instead\n",
      "  return getattr(obj, method)(*args, **kwds)\n"
     ]
    },
    {
     "data": {
      "image/png": "[encoded data removed]",
      "text/plain": [
       "<matplotlib.figure.Figure at 0x1580e34def0>"
      ]
     },
     "metadata": {},
     "output_type": "display_data"
    },
    {
     "data": {
      "image/png": "[encoded data removed]",
      "text/plain": [
       "<matplotlib.figure.Figure at 0x1580e04a9e8>"
      ]
     },
     "metadata": {},
     "output_type": "display_data"
    }
   ],
   "source": [
    "#boxplot shows that 'price' is dependent on 'brick' and 'nbhd' type\n",
    "data.boxplot(column='price' ,by='brick')\n",
    "plt.show()\n",
    "data.boxplot(column='price' ,by='nbhd')\n",
    "plt.show()\n",
    "\n",
    "# Boxplots of the featues show that the price is dependent on chategorical varible nbhd and brick on other \n",
    "# numerical variables. So only column home is dropped from the feature set \n",
    "# since it is just house number. Rest all the columns are considered for the analysis"
   ]
  },
  {
   "cell_type": "code",
   "execution_count": 23,
   "metadata": {},
   "outputs": [
    {
     "name": "stdout",
     "output_type": "stream",
     "text": [
      "   offers  sqft  bedrooms  bathrooms  nbhd_nbhd01  nbhd_nbhd02  nbhd_nbhd03  \\\n",
      "0       2  1790         2          2            0            1            0   \n",
      "1       3  2030         4          2            0            1            0   \n",
      "2       1  1740         3          2            0            1            0   \n",
      "3       3  1980         3          2            0            1            0   \n",
      "4       3  2130         3          3            0            1            0   \n",
      "\n",
      "   brick_No  brick_Yes  \n",
      "0         1          0  \n",
      "1         1          0  \n",
      "2         1          0  \n",
      "3         1          0  \n",
      "4         1          0  \n",
      "    price\n",
      "0  114300\n",
      "1  114200\n",
      "2  114800\n",
      "3   94700\n",
      "4  119800\n"
     ]
    }
   ],
   "source": [
    "# Separating the data into Feature Space (X_data)\n",
    "X_data = data[['nbhd','offers','sqft', 'brick','bedrooms','bathrooms']]\n",
    "X_data = pd.get_dummies(X_data) # Convert categorical variable into dummy/indicator variables like 0 and 1\n",
    "print (X_data.head())\n",
    "\n",
    "# Dependent variable (Y_data)\n",
    "Y_data = data[['price']]\n",
    "print (Y_data.head())\n",
    "\n",
    "# dropping derived column 'brick_Yes','nbhd_nbhd03'\n",
    "X_data.drop(['brick_Yes','nbhd_nbhd03'], axis=1, inplace=True)"
   ]
  },
  {
   "cell_type": "code",
   "execution_count": 32,
   "metadata": {},
   "outputs": [
    {
     "name": "stdout",
     "output_type": "stream",
     "text": [
      "     offers  sqft  bedrooms  bathrooms  nbhd_nbhd01  nbhd_nbhd02  brick_No\n",
      "11        2  1870         2          2            0            1         0\n",
      "106       4  2130         3          2            1            0         1\n",
      "105       4  2530         4          3            0            0         1\n",
      "73        2  2040         3          3            0            1         1\n",
      "92        2  2110         3          2            0            0         1 \n",
      "\n",
      "      price\n",
      "11   123000\n",
      "106  108500\n",
      "105  146900\n",
      "73   125700\n",
      "92   142600 \n",
      "\n",
      "    offers  sqft  bedrooms  bathrooms  nbhd_nbhd01  nbhd_nbhd02  brick_No\n",
      "8        3  2110         4          2            0            1         1\n",
      "9        3  1730         3          3            0            1         1\n",
      "10       3  2030         3          2            0            1         0\n",
      "14       4  2590         4          3            0            0         1\n",
      "15       1  1780         4          2            0            0         1 \n",
      "\n",
      "     price\n",
      "8   119200\n",
      "9   104000\n",
      "10  132500\n",
      "14  176800\n",
      "15  145800\n"
     ]
    }
   ],
   "source": [
    "    # Dividing the datasets into Test and Train datasets (in the ratio of 80:20)\n",
    "    X_train = X_data.sample(frac=0.8, random_state=100)\n",
    "    X_test = X_data.drop(X_train.index)\n",
    "    Y_train = Y_data.iloc[X_train.index] # .iloc[] is primarily integer position based (from 0 to length-1 of the axis)\n",
    "    Y_test = Y_data.iloc[X_test.index]\n",
    "    print (X_train.head(),'\\n')\n",
    "    print (Y_train.head(),'\\n')\n",
    "    print (X_test.head(),'\\n')\n",
    "    print (Y_test.head())"
   ]
  },
  {
   "cell_type": "code",
   "execution_count": 87,
   "metadata": {},
   "outputs": [
    {
     "name": "stdout",
     "output_type": "stream",
     "text": [
      "[[      795    534150       799       651       110        92       183]\n",
      " [   534150 407980300    611060    497210     70050     72370    132570]\n",
      " [      799    611060       955       752        97       103       198]\n",
      " [      651    497210       752       625        83        87       158]\n",
      " [      110     70050        97        83        37         0        30]\n",
      " [       92     72370       103        87         0        36        21]\n",
      " [      183    132570       198       158        30        21        67]] \n",
      "\n",
      "[[   33011100]\n",
      " [26233790000]\n",
      " [   39784400]\n",
      " [   32274500]\n",
      " [    4030900]\n",
      " [    4417300]\n",
      " [    7943800]] \n",
      "\n",
      "[-10177.658222010516, 71.48463611472727, 5121.39191876248, 7921.026535997922, -13701.312562504541, -18980.600805965936, -16810.933640353585] \n",
      "\n",
      "[ 120835.69383677   96471.16673041  126806.46466918  171872.28829179\n",
      "  136581.6811689   135987.37476153  162893.7758466   108008.88827009\n",
      "  111477.56552634  116474.95200128  120278.74380032  143670.39395302\n",
      "  169404.86295432  125885.42208693  123752.79584474  136581.6811689\n",
      "  100925.55027413  163340.71303796  131668.44759257  167407.64026368\n",
      "  151475.98736226   93489.81010597  188138.18473695  137153.93205714\n",
      "  117589.16752168  156537.62845367] \n",
      "\n",
      "0     -1635.693837\n",
      "1      7528.833270\n",
      "2      5693.535331\n",
      "3      4927.711708\n",
      "4      9218.318831\n",
      "5     11112.625238\n",
      "6     -6493.775847\n",
      "7      9791.111730\n",
      "8      4422.434474\n",
      "9       925.047999\n",
      "10    10521.256200\n",
      "11    -5570.393953\n",
      "12    11495.137046\n",
      "13      314.577913\n",
      "14    28147.204155\n",
      "15     7018.318831\n",
      "16     1774.449726\n",
      "17     9159.286962\n",
      "18    25431.552407\n",
      "19    -6807.640264\n",
      "20    -5975.987362\n",
      "21     9710.189894\n",
      "22    23061.815263\n",
      "23    -3153.932057\n",
      "24      210.832478\n",
      "25    -6637.628454\n",
      "Name: price, dtype: float64 \n",
      "\n"
     ]
    },
    {
     "data": {
      "image/png": "[encoded data removed]",
      "text/plain": [
       "<matplotlib.figure.Figure at 0x1580e31bc88>"
      ]
     },
     "metadata": {},
     "output_type": "display_data"
    },
    {
     "name": "stdout",
     "output_type": "stream",
     "text": [
      "5545.737987803832 \n",
      "\n",
      "10909.6033262\n"
     ]
    }
   ],
   "source": [
    "# GAUSSIAN ELIMINATION .. Writing a function myGauss for Gaussian Elimination algorithm\n",
    "#In Gaussian elimination to perform row reduction on a matrix, one uses a sequence of elementary row operations to modify the matrix until the lower left-hand corner of the matrix is filled with zeros, as much as possible.\n",
    "#There are three types of elementary row operations: 1) Swapping two rows, 2) Multiplying a row by a non-zero number, 3) Adding a multiple of one row to another row. \n",
    "\n",
    "def myGauss(m):\n",
    "        #eliminate columns\n",
    "        for col in range(len(m[0])):\n",
    "            for row in range(col+1, len(m)):\n",
    "                r = [(rowValue * (-(m[row][col] / m[col][col]))) for rowValue in m[col]]\n",
    "                m[row] = [sum(pair) for pair in zip(m[row], r)]\n",
    "        #now backsolve by substitution\n",
    "        ans = []\n",
    "        m.reverse() #makes it easier to backsolve\n",
    "        for sol in range(len(m)):\n",
    "                if sol == 0:\n",
    "                    ans.append(m[sol][-1] / m[sol][-2])\n",
    "                else:\n",
    "                    inner = 0\n",
    "                    #substitute in all known coefficients\n",
    "                    for x in range(sol):\n",
    "                        inner += (ans[x]*m[sol][-2-x])\n",
    "                    #the equation is now reduced to ax + b = c form\n",
    "                    #solve with (c - b) / a\n",
    "                    ans.append((m[sol][-1]-inner)/m[sol][-sol-2])\n",
    "        ans.reverse()\n",
    "        return ans\n",
    "\n",
    "# A_transpose*A Matrix for training feature sets\n",
    "AtA = np.dot(X_train.as_matrix().transpose(),X_train.as_matrix())\n",
    "print (AtA,'\\n' )\n",
    "\n",
    "# A_transpose*y matrix for predictor variable\n",
    "AtY = np.dot(X_train.as_matrix().transpose(), Y_train.as_matrix())\n",
    "print (AtY,'\\n')\n",
    "\n",
    "# Beta values (constants) corresponding to Gaussian ELimination algorithm\n",
    "# np.hstack((AtA,AtY))\n",
    "Betas_GE = myGauss(np.hstack((AtA,AtY)).tolist())\n",
    "print (Betas_GE,'\\n')\n",
    "\n",
    "# Y prediction for test data\n",
    "Y_testPredict_GE= np.dot(X_test.as_matrix(),Betas_GE)\n",
    "print (Y_testPredict_GE,'\\n')\n",
    "\n",
    "# Error (y_test - y_hat)\n",
    "Error_GE = Y_test['price']-Y_testPredict_GE\n",
    "Error_GE.reset_index(drop=True,inplace=True)\n",
    "print (Error_GE,'\\n')\n",
    "\n",
    "plt.plot(Error_GE)\n",
    "plt.show()\n",
    "\n",
    "#Average Residual for gaussian elimination\\n\",\n",
    "print (np.mean(Error_GE),'\\n')\n",
    "\n",
    "# Root-mean-square error (RMSE) for gaussian elimination\n",
    "print ((np.dot(Error_GE,Error_GE)/len(Error_GE))**0.5)"
   ]
  },
  {
   "cell_type": "code",
   "execution_count": 81,
   "metadata": {},
   "outputs": [
    {
     "name": "stdout",
     "output_type": "stream",
     "text": [
      "[[  2.81957444e+01   0.00000000e+00   0.00000000e+00   0.00000000e+00\n",
      "    0.00000000e+00   0.00000000e+00   0.00000000e+00]\n",
      " [  1.89443482e+04   7.00656619e+03   0.00000000e+00   0.00000000e+00\n",
      "    0.00000000e+00   0.00000000e+00   0.00000000e+00]\n",
      " [  2.83376097e+01   1.05932708e+01   6.30575044e+00   0.00000000e+00\n",
      "    0.00000000e+00   0.00000000e+00   0.00000000e+00]\n",
      " [  2.30885907e+01   8.53652081e+00   1.15685706e+00   4.20790629e+00\n",
      "    0.00000000e+00   0.00000000e+00   0.00000000e+00]\n",
      " [  3.90129796e+00  -5.50561725e-01  -1.22447118e+00  -2.27916658e-01\n",
      "    4.46379663e+00   0.00000000e+00   0.00000000e+00]\n",
      " [  3.26290375e+00   1.50664602e+00  -8.60040753e-01  -4.81046768e-02\n",
      "   -2.90428041e+00   3.72916184e+00   0.00000000e+00]\n",
      " [  6.49034115e+00   1.37224379e+00  -7.25218671e-02  -8.27756188e-01\n",
      "    1.15535950e+00   2.70423529e-01   4.57099491e+00]] \n",
      "\n",
      "[-10177.658222010441, 71.48463611472714, 5121.391918762493, 7921.02653599793, -13701.312562504627, -18980.600805965954, -16810.933640353556] \n",
      "\n",
      "[ 120835.69383677   96471.16673041  126806.46466918  171872.28829179\n",
      "  136581.6811689   135987.37476153  162893.7758466   108008.88827009\n",
      "  111477.56552634  116474.95200128  120278.74380032  143670.39395302\n",
      "  169404.86295432  125885.42208693  123752.79584474  136581.6811689\n",
      "  100925.55027413  163340.71303796  131668.44759257  167407.64026368\n",
      "  151475.98736226   93489.81010597  188138.18473695  137153.93205714\n",
      "  117589.16752168  156537.62845367] \n",
      "\n",
      "0     -1635.693837\n",
      "1      7528.833270\n",
      "2      5693.535331\n",
      "3      4927.711708\n",
      "4      9218.318831\n",
      "5     11112.625238\n",
      "6     -6493.775847\n",
      "7      9791.111730\n",
      "8      4422.434474\n",
      "9       925.047999\n",
      "10    10521.256200\n",
      "11    -5570.393953\n",
      "12    11495.137046\n",
      "13      314.577913\n",
      "14    28147.204155\n",
      "15     7018.318831\n",
      "16     1774.449726\n",
      "17     9159.286962\n",
      "18    25431.552407\n",
      "19    -6807.640264\n",
      "20    -5975.987362\n",
      "21     9710.189894\n",
      "22    23061.815263\n",
      "23    -3153.932057\n",
      "24      210.832478\n",
      "25    -6637.628454\n",
      "Name: price, dtype: float64 \n",
      "\n"
     ]
    },
    {
     "data": {
      "image/png": "[encoded data removed]",
      "text/plain": [
       "<matplotlib.figure.Figure at 0x1580e4dfdd8>"
      ]
     },
     "metadata": {},
     "output_type": "display_data"
    },
    {
     "name": "stdout",
     "output_type": "stream",
     "text": [
      "5545.737987803856 \n",
      "\n",
      "606882471.2\n"
     ]
    }
   ],
   "source": [
    "# Cholesky Decomposition\n",
    "#Defining forward substitution and backward substitution for lower and upper tringular matrix respectively\n",
    "def ForwardSubstitution(m):\n",
    "        #eliminate columns\n",
    "        for col in range(len(m[0])):\n",
    "            for row in range(col+1, len(m)):\n",
    "                r = [(rowValue * (-(m[row][col] / m[col][col]))) for rowValue in m[col]]\n",
    "                m[row] = [sum(pair) for pair in zip(m[row], r)]\n",
    "        ans = []\n",
    "        for sol in range(len(m)):\n",
    "            ans.append([m[sol][-1] / m[sol][sol]])\n",
    "        return ans\n",
    "    \n",
    "def BackwardSubstitution(m):\n",
    "        #now backsolve by substitution\n",
    "        ans = []\n",
    "        m.reverse() #makes it easier to backsolve\n",
    "        for sol in range(len(m)):\n",
    "                if sol == 0:\n",
    "                    ans.append(m[sol][-1] / m[sol][-2])\n",
    "                else:\n",
    "                    inner = 0\n",
    "                    #substitute in all known coefficients\n",
    "                    for x in range(sol):\n",
    "                        inner += (ans[x]*m[sol][-2-x])\n",
    "                    #the equation is now reduced to ax + b = c form\n",
    "                    #solve with (c - b) / a\n",
    "                    ans.append((m[sol][-1]-inner)/m[sol][-sol-2])\n",
    "        ans.reverse()\n",
    "        return ans\n",
    "    \n",
    "#Cholesky matrix decomposition\n",
    "L = np.linalg.cholesky(AtA)\n",
    "print (L,'\\n')\n",
    "\n",
    "#calculating Betas\n",
    "Betas_interim = ForwardSubstitution(np.hstack((L,AtY)).tolist()) # np.hstack take a sequence of arrays and stack them horizontally to make a single array. Rebuild arrays divided by hsplit.\n",
    "Betas_Cholesky = BackwardSubstitution(np.hstack((L.transpose(),Betas_interim)).tolist())\n",
    "print(Betas_Cholesky,'\\n')\n",
    "\n",
    "Y_testPredict_Cholesky= np.dot(X_test.as_matrix(),Betas_Cholesky)\n",
    "print (Y_testPredict_Cholesky,'\\n')\n",
    "\n",
    "Error_Cholesky = Y_test['price']-Y_testPredict_Cholesky\n",
    "Error_Cholesky.reset_index(drop=True,inplace=True)\n",
    "print (Error_Cholesky,'\\n')\n",
    "\n",
    "plt.plot(Error_Cholesky)\n",
    "plt.show()\n",
    "\n",
    "#Average Residual\n",
    "print (np.mean(Error_Cholesky),'\\n')\n",
    "\n",
    "## Root-mean-square error (RMSE)\n",
    "print (np.dot(Error_Cholesky,Error_Cholesky)/len(Error_Cholesky)**0.5)"
   ]
  },
  {
   "cell_type": "code",
   "execution_count": 86,
   "metadata": {},
   "outputs": [
    {
     "name": "stdout",
     "output_type": "stream",
     "text": [
      "[[ -1.48834141e-03   9.77199242e-01  -4.12685505e-02  -2.00090285e-02\n",
      "    1.83932954e-01   8.66494280e-02  -4.04538766e-02]\n",
      " [ -9.99996936e-01  -1.50557858e-03   1.64725393e-03   8.68401244e-04\n",
      "    4.60600660e-05   5.65272713e-04  -2.67379118e-04]\n",
      " [ -1.49582992e-03  -1.05544168e-02  -9.58189498e-01   1.80347544e-01\n",
      "   -6.66569691e-02  -1.93857255e-01  -8.49130692e-02]\n",
      " [ -1.21875504e-03   2.59911463e-04  -1.75881326e-01  -9.64244387e-01\n",
      "   -7.29552127e-02  -7.61515658e-02   1.67855425e-01]\n",
      " [ -2.05934032e-04   1.86801797e-01   1.78262342e-01   1.52136945e-02\n",
      "   -7.87214552e-01  -4.80967657e-01  -2.86460276e-01]\n",
      " [ -1.72235736e-04  -2.80995484e-02   1.31935527e-01  -1.25914361e-02\n",
      "    5.49617741e-01  -8.21557710e-01  -6.78831768e-02]\n",
      " [ -3.42599344e-04   9.63504779e-02   6.95649364e-03   1.92136433e-01\n",
      "   -1.86055476e-01  -2.06941785e-01   9.36114375e-01]] [[ -5.34151637e+05  -4.07981437e+08  -6.11061768e+05  -4.97211418e+05\n",
      "   -7.00502133e+04  -7.23701887e+04  -1.32570388e+05]\n",
      " [  0.00000000e+00  -7.47704917e+04  -1.14797751e+02  -9.19232311e+01\n",
      "    1.08261123e+01  -1.91091078e+01  -1.13463539e+01]\n",
      " [  0.00000000e+00   0.00000000e+00  -4.14781225e+01  -1.09457411e+01\n",
      "    1.01124672e+01   6.31563177e+00   1.89813971e+00]\n",
      " [  0.00000000e+00   0.00000000e+00   0.00000000e+00  -1.77546458e+01\n",
      "    2.41894133e+00  -7.26523846e-01   7.88563294e+00]\n",
      " [  0.00000000e+00   0.00000000e+00   0.00000000e+00   0.00000000e+00\n",
      "   -2.37704788e+01   2.29215011e+01  -9.49927091e+00]\n",
      " [  0.00000000e+00   0.00000000e+00   0.00000000e+00   0.00000000e+00\n",
      "    0.00000000e+00  -1.16338050e+01  -5.16747636e+00]\n",
      " [  0.00000000e+00   0.00000000e+00   0.00000000e+00   0.00000000e+00\n",
      "    0.00000000e+00   0.00000000e+00   1.95591686e+01]] \n",
      "\n",
      "[-10177.658222005353, 71.48463611472107, 5121.391918764599, 7921.0265359969735, -13701.31256250915, -18980.60080596325, -16810.93364036059] \n",
      "\n",
      "[ 120835.69383677   96471.16673041  126806.46466919  171872.28829179\n",
      "  136581.68116889  135987.37476154  162893.77584661  108008.88827008\n",
      "  111477.56552634  116474.95200128  120278.74380032  143670.39395301\n",
      "  169404.86295431  125885.42208693  123752.79584474  136581.68116889\n",
      "  100925.55027413  163340.71303795  131668.44759257  167407.64026368\n",
      "  151475.98736225   93489.81010598  188138.18473695  137153.93205714\n",
      "  117589.16752167  156537.62845366] \n",
      "\n",
      "0     -1635.693837\n",
      "1      7528.833270\n",
      "2      5693.535331\n",
      "3      4927.711708\n",
      "4      9218.318831\n",
      "5     11112.625238\n",
      "6     -6493.775847\n",
      "7      9791.111730\n",
      "8      4422.434474\n",
      "9       925.047999\n",
      "10    10521.256200\n",
      "11    -5570.393953\n",
      "12    11495.137046\n",
      "13      314.577913\n",
      "14    28147.204155\n",
      "15     7018.318831\n",
      "16     1774.449726\n",
      "17     9159.286962\n",
      "18    25431.552407\n",
      "19    -6807.640264\n",
      "20    -5975.987362\n",
      "21     9710.189894\n",
      "22    23061.815263\n",
      "23    -3153.932057\n",
      "24      210.832478\n",
      "25    -6637.628454\n",
      "Name: price, dtype: float64 \n",
      "\n"
     ]
    },
    {
     "data": {
      "image/png": "[encoded data removed]",
      "text/plain": [
       "<matplotlib.figure.Figure at 0x1580df43c88>"
      ]
     },
     "metadata": {},
     "output_type": "display_data"
    },
    {
     "name": "stdout",
     "output_type": "stream",
     "text": [
      "5545.7379878046195 \n",
      "\n",
      "606882471.2\n"
     ]
    }
   ],
   "source": [
    "# QR Decomposition\n",
    "# QR decomposition of a matrix is a decomposition of a matrix A into a product A = QR of an orthogonal matrix Q and an upper triangular matrix R. \n",
    "# QR decomposition is often used to solve the linear least squares problem, and is the basis for a particular eigenvalue algorithm, the QR algorithm.\n",
    "\n",
    "q,r = np.linalg.qr(AtA)\n",
    "print (q,r,'\\n')\n",
    "\n",
    "#QR Decomposition: for linear system of equation Ax=y\n",
    "# QR Dec.=> A=QR => QRx = y => Rx =Q_tans*y\n",
    "Betas_QR = BackwardSubstitution(np.hstack((r,np.dot(q.transpose(),AtY))).tolist())\n",
    "print (Betas_QR,'\\n')\n",
    "\n",
    "Y_testPredict_QR= np.dot(X_test.as_matrix(),Betas_QR)\n",
    "print (Y_testPredict_QR,'\\n')\n",
    "\n",
    "Error_QR = Y_test['price']- Y_testPredict_QR\n",
    "Error_QR.reset_index(drop=True,inplace=True)\n",
    "print (Error_QR,'\\n')\n",
    "\n",
    "plt.plot(Error_QR)\n",
    "plt.show()\n",
    "\n",
    "#Average Residual\n",
    "print (np.mean(Error_QR),'\\n')\n",
    "\n",
    "# Root-mean-square error (RMSE)\n",
    "print (np.dot(Error_QR,Error_QR)/len(Error_QR)**0.5)"
   ]
  },
  {
   "cell_type": "code",
   "execution_count": null,
   "metadata": {
    "collapsed": true
   },
   "outputs": [],
   "source": []
  }
 ],
 "metadata": {
  "kernelspec": {
   "display_name": "Python 3",
   "language": "python",
   "name": "python3"
  },
  "language_info": {
   "codemirror_mode": {
    "name": "ipython",
    "version": 3
   },
   "file_extension": ".py",
   "mimetype": "text/x-python",
   "name": "python",
   "nbconvert_exporter": "python",
   "pygments_lexer": "ipython3",
   "version": "3.6.4"
  }
 },
 "nbformat": 4,
 "nbformat_minor": 2
}
